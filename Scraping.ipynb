{
 "cells": [
  {
   "cell_type": "markdown",
   "id": "8875721b",
   "metadata": {},
   "source": [
    "# Jupiter notebook that retrieves data from Facture"
   ]
  },
  {
   "cell_type": "markdown",
   "id": "47310a4a",
   "metadata": {},
   "source": [
    "## Importing Libraries"
   ]
  },
  {
   "cell_type": "code",
   "execution_count": 1,
   "id": "64d015c5",
   "metadata": {},
   "outputs": [
    {
     "name": "stdout",
     "output_type": "stream",
     "text": [
      "Facture                 \n",
      "Numéro de note Date Numéro doc.\n",
      "8185864998 11.02.2022 40045168\n",
      "Adresse de livraison: Adresse de facturation:\n",
      "RDMC RDMC\n",
      "1 RUE DE LA DESTINEE 1 RUE DE LA DESTINEE\n",
      "95800 CERGY 95800 CERGY\n",
      "Page  1/  2\n",
      "N° de commande / Date S301571478 / 09.02.2022 N° de livraison / Date  / 11.02.2022\n",
      "Votre compte chez nous 757769 Contact client STREAM_ONE\n",
      "Numéro TVA du client FR37880905088 Pers. contact TD- Sales Digitally Led\n",
      "VNo. bon d'achat / Date See_Line_Level_31/Jan/2022 / Pers. contact TD- Finance Valérie Lair\n",
      "09.02.2022\n",
      "N° d'art. Description % VAT\n",
      "Ligne N° d'art.fabricant Quantité Prix unitaire Montant EUR\n",
      "Del. Grp numéro EAN N° d'art. client\n",
      "4194212 Acronis Backup CloudÂ#Acronis Hosted/GB  20,00 %\n",
      "000010 SPBAMSENSCOMIT1     1 336,50 EUR 336,50 EUR\n",
      " \n",
      "Billing Period: 01/Jan/2022 - 31/Jan/2022 (31 days)\n",
      "Original StreamOne Sales Order: S000615933 (SKU: SK11456)\n",
      "Your Purchase Order: 2021-07-22_31/Jan/2022\n",
      "End User: RDMC\n",
      "Product:CPC_PG Acronis Hosted Storage Quantity:3365.04\n",
      "Total H.T. 336,50 EUR\n",
      "Bases T.V.A. 336,50 EUR\n",
      "Taux - Base de calcul - montant T.V.A. 20,00 % 336,50 EUR 67,30 EUR\n",
      "NET A PAYER 403,80 EUR\n",
      "RPCP:\n",
      "Notice officielle d.information sur la copie privée à :  http://www.copieprivee.culture.gouv.fr\n",
      "Remboursement/exonération de la rémunération pour usage  professionnel, http://www.copiefrance.fr\n",
      "Référence à mentionner lors du règlement ou pour toutreé clamation: 8185864998\n",
      "Mode d'expédition: PA - Paris\n",
      "Mode de règlement: 30 jours nets   / Traite LCR\n",
      "Date d'échéance: 13.03.2022\n",
      "N° TVA Tech Data: FR07722065638\n",
      "Ces biens sont contrôlés par les réglementations du  gouvernement des États-Unis et de l'UE sur le contrôle des  exportations. S'ils\n",
      "sont exportés ou réexportés, ils sont autorisés à l'exportation  uniquement vers le pays de destination finale, en vue d'être  utilisés par\n",
      "le destinataire final ou le(s) utilisateur(s) final(s)  identifié(s) dans le présent document. Ils ne peuvent pas être  revendus ou transférés\n",
      "à une personne autre que le destinataire final ou le(s)  utilisateur(s) final(s) autorisé(s) et ils ne peuvent pas être  revendus, transférés\n",
      "ou mis au rebut de quelque manière que ce soit dans un autre  pays, que ce soit sous leur forme originale ou après avoir été\n",
      "intégrés à d'autres biens, sans l'obtention préalable de  l'approbation nécessaire du gouvernement des États-Unis, de  l'UE ou du\n",
      "gouvernement national compétent ou selon les modalités  autorisées par la loi et les réglementations des États-Unis.\n",
      "Facture en EUR, merci d'adresser votre règlement au RIB suiva n:t\n",
      "SWIFT code: CITIFRPP                    IBAN: FR76 1168 9007 0000 6555 1301 926\n",
      "Conformément aux Conditions Générales de Vente de Tech Data  France, un escompte pour paiement anticipé calculé au taux\n",
      "annualisé de deux virgule cinq pourcent (2,5%) sera consenti  par TDF aux Clients bénéficiant d'une ligne de crédit en cas de\n",
      "paiement avec réception des fonds dans les dix (10) jours  suivant la date de la facture.\n",
      "Cet escompte est calculé sur le montant net encaissé.\n",
      "Tout paiement postérieur à la date d.échéance entraîne  l.exigibilité de pénalités de retard dont le taux est égal à  trois (3) fois le taux\n",
      "d.intérêt légal en vigueur en France. Par ailleurs,  conformément à l.article L. 441-10 du Code de commerce, tout  retard de paiement\n",
      "entraîne de plein droit et sans qu.un rappel ne soit  nécessaire, outre les intérêts de retard susmentionnés, une  obligation pour le\n",
      "Client de payer une indemnité forfaitaire pour frais de  recouvrement de quarante euros hors taxes (40 euros H.T.) par  facture.\n",
      "La vente faisant l'objet des présentes est, de l'accord formel  des parties, régie par les conditions générales de vente TECH  DATA\n",
      "France que l'acquéreur déclare expressément accepter,\n",
      "notamment la clause de réserve de propriété des biens vendusa,u  profit de Tech Data, jusqu'au paiement intégral du prix.\n",
      "TECH DATA France S.A.S  TVA: FR 07 722065638     Veuillez addresser votre règlement\n",
      "au capital de 77.995.212 Euros 722 065 638 RCS Meaux             à TECH DATA France\n",
      "APE 4651Z Comptabililé Clients Collection Colombes\n",
      "Siège Social & Bureaux Agence Colombes\n",
      "5, avenue de I.Europe Bâtiment les corvettes web: www.techdata.fr\n",
      "Bussy Saint-Georges 142, Avenue de Stalingrad Comptabililé Clients Collection Bussy\n",
      "77611 Marne-la-Vallée Cedex 3 92714 Colombes Cedex\n",
      "Facture                 \n",
      "Numéro de note Date Numéro doc.\n",
      "8185864998 11.02.2022 40045168\n",
      "Page  2/  2\n",
      "Pour visualiser vos factures, les CGV Tech Data France, ou  déclarer vos litiges (rubrique « service client online)\n",
      "rendez-vous sur www.techdata.fr\n",
      "Tech Data France S.A.S. (\" nous\") et Tech Data UK Resources Limited (\" TD UK\") vous notifient par la présente qu'en tant que\n",
      "propriétaire légal et bénéficiaire de cette facture, avant la  date d'échéance de cette facture, nous céderons dans chaque cas\n",
      "complètement tous nos droits, titres, intérêts et bénéfices  liés à la créance résultant de cette facture (ou, le cas  échéant, desdites\n",
      "factures antérieures) (les \" Créances\") à TD UK.\n",
      "Veuillez noter que (i) vous pouvez continuer à traiter avec  nous en ce qui concerne les Créances, (ii) vous devez continuer  à\n",
      "effectuer les paiements à notre bénéfice jusqu'à ce que vous  receviez une notification contraire de la part de TD UK, (iii)  nous vous\n",
      "donnons irrévocablement et inconditionnellement instruction et  autorisation (cette autorisation ne pouvant être ni révoquée ni\n",
      "modifiée, malgré toute instruction précédente contraire), à la  réception d'une notification de TD UK conformément à la  précédente\n",
      "clause (ii) ci-dessus, de payer toute somme que vous nous devez  au titre des Créances à TD UK (et non nous) ou tout autre  compte\n",
      "que TD UK spécifie, et (iv) vous êtes autorisés à communiquer  toute information relative aux Créances à TD UK, à la demande  de\n",
      "ce dernier. TD UK et nous-mêmes restons à tout moment seuls  responsables envers vous de l'exécution de toutes les  obligations\n",
      "relatives aux Créances.\n",
      "TECH DATA France S.A.S  TVA: FR 07 722065638     Veuillez addresser votre règlement\n",
      "au capital de 77.995.212 Euros 722 065 638 RCS Meaux             à TECH DATA France\n",
      "APE 4651Z Comptabililé Clients Collection Colombes\n",
      "Siège Social & Bureaux Agence Colombes\n",
      "5, avenue de I.Europe Bâtiment les corvettes web: www.techdata.fr\n",
      "Bussy Saint-Georges 142, Avenue de Stalingrad Comptabililé Clients Collection Bussy\n",
      "77611 Marne-la-Vallée Cedex 3 92714 Colombes Cedex\n"
     ]
    }
   ],
   "source": [
    "import pandas as pd\n",
    "import pdfplumber as pdfp\n",
    "with pdfp.open('Factures/11.02.2022.pdf') as pdf:\n",
    "    global text\n",
    "    for page in pdf.pages:\n",
    "        text = page.extract_text()\n",
    "        file_object = open('texte.txt', 'a')\n",
    "# Append 'hello' at the end of file\n",
    "        file_object.write(text)\n",
    "# Close the file\n",
    "        file_object.close()\n",
    "        print(text)"
   ]
  },
  {
   "cell_type": "code",
   "execution_count": 2,
   "id": "69e64e8d",
   "metadata": {},
   "outputs": [
    {
     "data": {
      "text/plain": [
       "0"
      ]
     },
     "execution_count": 2,
     "metadata": {},
     "output_type": "execute_result"
    }
   ],
   "source": [
    "# READ FILE\n",
    "df = open(\"texte.txt\")\n",
    "# read file\n",
    "read = df.read()\n",
    "df.seek(0)\n",
    "#read"
   ]
  },
  {
   "cell_type": "code",
   "execution_count": 3,
   "id": "265e1d89",
   "metadata": {},
   "outputs": [
    {
     "name": "stdout",
     "output_type": "stream",
     "text": [
      "Number of lines in file is:  25\n"
     ]
    }
   ],
   "source": [
    "arr = []\n",
    "# count number of\n",
    "# lines in the file\n",
    "line = 1\n",
    "for word in text:\n",
    "\tif word == '\\n':\n",
    "\t\tline += 1\n",
    "print(\"Number of lines in file is: \", line)"
   ]
  },
  {
   "cell_type": "code",
   "execution_count": 4,
   "id": "10e711d5",
   "metadata": {
    "scrolled": true
   },
   "outputs": [
    {
     "name": "stdout",
     "output_type": "stream",
     "text": [
      "Numéro de note 2\n",
      "Numéro doc 2\n",
      "Adresse de livraison 4\n",
      "Adresse de facturation 4\n",
      "N° de commande 9\n",
      "Votre compte chez nous 10\n",
      "Numéro TVA du client 11\n",
      "VNo. bon d'achat 12\n",
      "Total H.T. 25\n",
      "Taux - Base de calcul 27\n",
      "NET A PAYER 28\n",
      "Mode d'expédition: 33\n",
      "Mode de règlement: 34\n",
      "Date d'échéance 35\n",
      "N° TVA Tech Data: 36\n",
      "Words List Line : [2, 2, 4, 4, 9, 10, 11, 12, 25, 27, 28, 33, 34, 35, 36]\n"
     ]
    }
   ],
   "source": [
    "labels = [\"Numéro de note\",\"Numéro doc\",\n",
    "          \"Adresse de livraison\",\"Adresse de facturation\",\n",
    "          \"N° de commande\",\"Votre compte chez nous\",\"Numéro TVA du client\",\n",
    "          \"VNo. bon d'achat\",\"Contact  client\",\"Pers.  contact  TD-  Sales\",\n",
    "          \"Pers.  contact  TD-  Finance\",\"Total H.T.\",\"Taux - Base de calcul\",\"NET A PAYER\",\"Mode d'expédition:\",\n",
    "          \"Mode de règlement:\",\"Date d'échéance\",\"N° TVA Tech Data:\"]\n",
    "#outputs = []\n",
    "list = []\n",
    "for word in labels:\n",
    "    for i in range(line):\n",
    "        arr.append(str(df.readline()))\n",
    "#global findline\n",
    "    def findline(word):\n",
    "        #list = [] #############################\n",
    "        for i in range(len(arr)):\n",
    "            #list = []\n",
    "            if word in arr[i] and 0 < i < 59: \n",
    "                #for i in range(line):\n",
    "                  ######################\n",
    "                print( word, i+1)  ########/////////////////// i+1, end=\" \"\n",
    "                list.append(i+1)        \n",
    "        return list\n",
    " \n",
    "    words = findline(word)\n",
    "#print (a)  ####################################### \n",
    "#words = outputs.append(findline)\n",
    "\n",
    "print(\"Words List Line :\", words)"
   ]
  },
  {
   "cell_type": "markdown",
   "id": "c93f3a21",
   "metadata": {},
   "source": [
    "### Numéro_de_note"
   ]
  },
  {
   "cell_type": "code",
   "execution_count": 5,
   "id": "e2e5d87d",
   "metadata": {},
   "outputs": [
    {
     "data": {
      "text/plain": [
       "'8185864998 11.02.2022 40045168'"
      ]
     },
     "execution_count": 5,
     "metadata": {},
     "output_type": "execute_result"
    }
   ],
   "source": [
    "a = read.split('\\n')[words[0]]\n",
    "a"
   ]
  },
  {
   "cell_type": "code",
   "execution_count": 6,
   "id": "17ff05b2",
   "metadata": {},
   "outputs": [
    {
     "name": "stdout",
     "output_type": "stream",
     "text": [
      "8185864998\n"
     ]
    }
   ],
   "source": [
    "Numéro_de_note = a[0:10]\n",
    "print(Numéro_de_note)"
   ]
  },
  {
   "cell_type": "markdown",
   "id": "523b8d8f",
   "metadata": {},
   "source": [
    "### Date"
   ]
  },
  {
   "cell_type": "code",
   "execution_count": 7,
   "id": "6281ad76",
   "metadata": {},
   "outputs": [
    {
     "name": "stdout",
     "output_type": "stream",
     "text": [
      "11.02.2022\n"
     ]
    }
   ],
   "source": [
    "Date = a[11:21]\n",
    "print(Date)"
   ]
  },
  {
   "cell_type": "markdown",
   "id": "76a0a0c0",
   "metadata": {},
   "source": [
    "### Numéro_doc"
   ]
  },
  {
   "cell_type": "code",
   "execution_count": 8,
   "id": "54580b40",
   "metadata": {},
   "outputs": [
    {
     "name": "stdout",
     "output_type": "stream",
     "text": [
      "40045168\n"
     ]
    }
   ],
   "source": [
    "Numéro_doc = a[22:30]\n",
    "print(Numéro_doc)"
   ]
  },
  {
   "cell_type": "markdown",
   "id": "82626360",
   "metadata": {},
   "source": [
    "### Adresse_de_livraison"
   ]
  },
  {
   "cell_type": "code",
   "execution_count": 9,
   "id": "4d577aad",
   "metadata": {},
   "outputs": [
    {
     "name": "stdout",
     "output_type": "stream",
     "text": [
      "1 RUE DE LA DESTINEE 1 RUE DE LA DESTINEE\n"
     ]
    }
   ],
   "source": [
    "Adresse_de_livraison = read.split('\\n')[words[3]+1]\n",
    "print(Adresse_de_livraison)"
   ]
  },
  {
   "cell_type": "markdown",
   "id": "a921949c",
   "metadata": {},
   "source": [
    "### Adresse_de_facturation"
   ]
  },
  {
   "cell_type": "code",
   "execution_count": 10,
   "id": "83e70fe5",
   "metadata": {},
   "outputs": [
    {
     "name": "stdout",
     "output_type": "stream",
     "text": [
      "95800 CERGY 95800 CERGY\n"
     ]
    }
   ],
   "source": [
    "Adresse_de_facturation=read.split('\\n')[words[3]+2]\n",
    "print(Adresse_de_facturation)"
   ]
  },
  {
   "cell_type": "markdown",
   "id": "5c783580",
   "metadata": {},
   "source": [
    "### Votre_compte_chez_nous"
   ]
  },
  {
   "cell_type": "code",
   "execution_count": 11,
   "id": "200c9f23",
   "metadata": {},
   "outputs": [
    {
     "data": {
      "text/plain": [
       "'Votre compte chez nous 757769 Contact client STREAM_ONE'"
      ]
     },
     "execution_count": 11,
     "metadata": {},
     "output_type": "execute_result"
    }
   ],
   "source": [
    "b=read.split('\\n')[words[4]]\n",
    "b"
   ]
  },
  {
   "cell_type": "code",
   "execution_count": 12,
   "id": "d64f8e01",
   "metadata": {},
   "outputs": [
    {
     "name": "stdout",
     "output_type": "stream",
     "text": [
      "757769\n"
     ]
    }
   ],
   "source": [
    "Votre_compte_chez_nous=b[23:29]\n",
    "print(Votre_compte_chez_nous)"
   ]
  },
  {
   "cell_type": "markdown",
   "id": "6805aa53",
   "metadata": {},
   "source": [
    "### Contact_client"
   ]
  },
  {
   "cell_type": "code",
   "execution_count": 13,
   "id": "48306900",
   "metadata": {},
   "outputs": [
    {
     "name": "stdout",
     "output_type": "stream",
     "text": [
      "STREAM_ONE\n"
     ]
    }
   ],
   "source": [
    "Contact_client=b[45:68]\n",
    "print(Contact_client)"
   ]
  },
  {
   "cell_type": "markdown",
   "id": "419946c8",
   "metadata": {},
   "source": [
    "### num_tva_client"
   ]
  },
  {
   "cell_type": "code",
   "execution_count": 14,
   "id": "435cc34c",
   "metadata": {},
   "outputs": [
    {
     "data": {
      "text/plain": [
       "'Numéro TVA du client FR37880905088 Pers. contact TD- Sales Digitally Led'"
      ]
     },
     "execution_count": 14,
     "metadata": {},
     "output_type": "execute_result"
    }
   ],
   "source": [
    "read.split('\\n')[words[5]]"
   ]
  },
  {
   "cell_type": "code",
   "execution_count": 15,
   "id": "f6da288b",
   "metadata": {},
   "outputs": [],
   "source": [
    "c = read.split('\\n')[words[5]]"
   ]
  },
  {
   "cell_type": "code",
   "execution_count": 16,
   "id": "e953c6ac",
   "metadata": {},
   "outputs": [
    {
     "name": "stdout",
     "output_type": "stream",
     "text": [
      "FR37880905088\n"
     ]
    }
   ],
   "source": [
    "num_tva_client=c[21:34]\n",
    "print(num_tva_client)"
   ]
  },
  {
   "cell_type": "markdown",
   "id": "a1a30901",
   "metadata": {},
   "source": [
    "### contact_td_sales"
   ]
  },
  {
   "cell_type": "code",
   "execution_count": 17,
   "id": "c3808286",
   "metadata": {},
   "outputs": [
    {
     "data": {
      "text/plain": [
       "'Digitally Led'"
      ]
     },
     "execution_count": 17,
     "metadata": {},
     "output_type": "execute_result"
    }
   ],
   "source": [
    "c[59:72]"
   ]
  },
  {
   "cell_type": "code",
   "execution_count": 18,
   "id": "81c5552d",
   "metadata": {},
   "outputs": [
    {
     "name": "stdout",
     "output_type": "stream",
     "text": [
      "Digitally Led\n"
     ]
    }
   ],
   "source": [
    "contact_td_sales=c[59:72]\n",
    "print(contact_td_sales)"
   ]
  },
  {
   "cell_type": "markdown",
   "id": "81e76f4c",
   "metadata": {},
   "source": [
    "### num_voucher"
   ]
  },
  {
   "cell_type": "code",
   "execution_count": 19,
   "id": "7ffa92aa",
   "metadata": {},
   "outputs": [
    {
     "data": {
      "text/plain": [
       "\"VNo. bon d'achat / Date See_Line_Level_31/Jan/2022 / Pers. contact TD- Finance Valérie Lair\""
      ]
     },
     "execution_count": 19,
     "metadata": {},
     "output_type": "execute_result"
    }
   ],
   "source": [
    "read.split('\\n')[words[6]]"
   ]
  },
  {
   "cell_type": "code",
   "execution_count": 20,
   "id": "38f9f93f",
   "metadata": {},
   "outputs": [
    {
     "data": {
      "text/plain": [
       "'Date See_Line_Level_31/Jan/2022 '"
      ]
     },
     "execution_count": 20,
     "metadata": {},
     "output_type": "execute_result"
    }
   ],
   "source": [
    "read.split('\\n')[words[6]].replace('\\t', '/').split(\"/ \")[1]"
   ]
  },
  {
   "cell_type": "code",
   "execution_count": 21,
   "id": "cf99850a",
   "metadata": {},
   "outputs": [
    {
     "name": "stdout",
     "output_type": "stream",
     "text": [
      "See_Line_Level_31/Jan/2022 \n"
     ]
    }
   ],
   "source": [
    "d= read.split('\\n')[words[6]].replace('\\t', '/').split(\"/ \")[1]\n",
    "num_voucher=d[5:]\n",
    "print(num_voucher)"
   ]
  },
  {
   "cell_type": "code",
   "execution_count": 22,
   "id": "0efadd2c",
   "metadata": {},
   "outputs": [
    {
     "name": "stdout",
     "output_type": "stream",
     "text": [
      "See_Line_Level_31/Jan/2022 \n"
     ]
    }
   ],
   "source": [
    "num_voucher=d[5:]\n",
    "print(num_voucher)"
   ]
  },
  {
   "cell_type": "markdown",
   "id": "f1bb4d1d",
   "metadata": {},
   "source": [
    "### contact_td_finance"
   ]
  },
  {
   "cell_type": "code",
   "execution_count": 23,
   "id": "fbb68b58",
   "metadata": {},
   "outputs": [
    {
     "name": "stdout",
     "output_type": "stream",
     "text": [
      "Valérie Lair\n"
     ]
    }
   ],
   "source": [
    "contact_td_finance=read.split('\\n')[words[6]].replace('\\t', '/').split(\"Finance \")[1]\n",
    "print(contact_td_finance)"
   ]
  },
  {
   "cell_type": "markdown",
   "id": "a42b6e61",
   "metadata": {},
   "source": [
    "### num_commande"
   ]
  },
  {
   "cell_type": "code",
   "execution_count": 24,
   "id": "a79117aa",
   "metadata": {},
   "outputs": [
    {
     "data": {
      "text/plain": [
       "'N° de commande / Date S301571478 / 09.02.2022 N° de livraison / Date  / 11.02.2022'"
      ]
     },
     "execution_count": 24,
     "metadata": {},
     "output_type": "execute_result"
    }
   ],
   "source": [
    "read.split('\\n')[words[4]-1]"
   ]
  },
  {
   "cell_type": "code",
   "execution_count": 25,
   "id": "006434f4",
   "metadata": {},
   "outputs": [
    {
     "name": "stdout",
     "output_type": "stream",
     "text": [
      "S301571478 \n"
     ]
    }
   ],
   "source": [
    "e=read.split('\\n')[words[4]-1].replace('\\t', '/ ').split(\"/ \")[1]\n",
    "num_commande=e[5:]\n",
    "print(num_commande)"
   ]
  },
  {
   "cell_type": "code",
   "execution_count": 26,
   "id": "57a7fea5",
   "metadata": {},
   "outputs": [
    {
     "name": "stdout",
     "output_type": "stream",
     "text": [
      "S301571478 \n"
     ]
    }
   ],
   "source": [
    "num_commande=e[5:]\n",
    "print(num_commande)"
   ]
  },
  {
   "cell_type": "markdown",
   "id": "c5eeaa60",
   "metadata": {},
   "source": [
    "### date_commande"
   ]
  },
  {
   "cell_type": "code",
   "execution_count": 27,
   "id": "f6ad081e",
   "metadata": {},
   "outputs": [
    {
     "name": "stdout",
     "output_type": "stream",
     "text": [
      "09.02.2022 \n"
     ]
    }
   ],
   "source": [
    "f=read.split('\\n')[words[4]-1].replace('\\t', '/ Date').split(\"N° de livraison\")[0]\n",
    "date_commande=f[35:]\n",
    "print(date_commande)"
   ]
  },
  {
   "cell_type": "markdown",
   "id": "b8453ab7",
   "metadata": {},
   "source": [
    "### Total H.T"
   ]
  },
  {
   "cell_type": "code",
   "execution_count": 28,
   "id": "4e148905",
   "metadata": {},
   "outputs": [
    {
     "data": {
      "text/plain": [
       "'Total H.T. 336,50 EUR'"
      ]
     },
     "execution_count": 28,
     "metadata": {},
     "output_type": "execute_result"
    }
   ],
   "source": [
    "read.split('\\n')[words[8]-1]"
   ]
  },
  {
   "cell_type": "code",
   "execution_count": 29,
   "id": "7d1ae89a",
   "metadata": {},
   "outputs": [
    {
     "name": "stdout",
     "output_type": "stream",
     "text": [
      "336,50 EUR\n"
     ]
    }
   ],
   "source": [
    "Total_HT=read.split('\\n')[words[8]-1].replace('\\t', '').split(\"Total H.T. \")[1]\n",
    "print(Total_HT)"
   ]
  },
  {
   "cell_type": "markdown",
   "id": "1fadb7c4",
   "metadata": {},
   "source": [
    "### Bases_TVA"
   ]
  },
  {
   "cell_type": "code",
   "execution_count": 30,
   "id": "a445a13e",
   "metadata": {},
   "outputs": [
    {
     "data": {
      "text/plain": [
       "'Bases T.V.A. 336,50 EUR'"
      ]
     },
     "execution_count": 30,
     "metadata": {},
     "output_type": "execute_result"
    }
   ],
   "source": [
    "read.split('\\n')[words[8]]"
   ]
  },
  {
   "cell_type": "code",
   "execution_count": 31,
   "id": "f9719060",
   "metadata": {},
   "outputs": [
    {
     "name": "stdout",
     "output_type": "stream",
     "text": [
      "336,50 EUR\n"
     ]
    }
   ],
   "source": [
    "Bases_TVA=read.split('\\n')[words[8]].replace('\\t', '').split(\"Bases T.V.A. \")[1]\n",
    "print(Bases_TVA)"
   ]
  },
  {
   "cell_type": "markdown",
   "id": "243f5112",
   "metadata": {},
   "source": [
    "### Taux"
   ]
  },
  {
   "cell_type": "code",
   "execution_count": 32,
   "id": "3bb95397",
   "metadata": {},
   "outputs": [
    {
     "name": "stdout",
     "output_type": "stream",
     "text": [
      "20,00 %\n"
     ]
    }
   ],
   "source": [
    "j=read.split('\\n')[words[8]+1].replace('\\t', '').split(\"Taux - Base de calcul - montant T.V.A. \")[1]\n",
    "Taux=j[:7]\n",
    "print(Taux)"
   ]
  },
  {
   "cell_type": "markdown",
   "id": "1623f32f",
   "metadata": {},
   "source": [
    "### Base_de_calcul"
   ]
  },
  {
   "cell_type": "code",
   "execution_count": 33,
   "id": "9f13f020",
   "metadata": {},
   "outputs": [
    {
     "name": "stdout",
     "output_type": "stream",
     "text": [
      "336,50 EUR\n"
     ]
    }
   ],
   "source": [
    "k=read.split('\\n')[words[8]+1].replace('\\t', '').split(\" % \")[1]\n",
    "Base_de_calcul=k[:10]\n",
    "print(Base_de_calcul)"
   ]
  },
  {
   "cell_type": "markdown",
   "id": "a5a32516",
   "metadata": {},
   "source": [
    "### Montant_TVA"
   ]
  },
  {
   "cell_type": "code",
   "execution_count": 34,
   "id": "5b698cc2",
   "metadata": {},
   "outputs": [
    {
     "name": "stdout",
     "output_type": "stream",
     "text": [
      "67,30 EUR\n"
     ]
    }
   ],
   "source": [
    "Montant_TVA=read.split('\\n')[words[8]+1].replace('\\t', '').split(\"EUR \")[1]\n",
    "print(Montant_TVA)"
   ]
  },
  {
   "cell_type": "markdown",
   "id": "eef60508",
   "metadata": {},
   "source": [
    "### NET_A_PAYER"
   ]
  },
  {
   "cell_type": "code",
   "execution_count": 35,
   "id": "b06c27a5",
   "metadata": {},
   "outputs": [
    {
     "name": "stdout",
     "output_type": "stream",
     "text": [
      "403,80 EUR\n"
     ]
    }
   ],
   "source": [
    "NET_A_PAYER=read.split('\\n')[words[9]].replace('\\t', '').split(\"NET A PAYER \")[1]\n",
    "print(NET_A_PAYER)"
   ]
  },
  {
   "cell_type": "markdown",
   "id": "84433ab2",
   "metadata": {},
   "source": [
    "### Mode_d_expédition"
   ]
  },
  {
   "cell_type": "code",
   "execution_count": 36,
   "id": "454cb39b",
   "metadata": {},
   "outputs": [
    {
     "name": "stdout",
     "output_type": "stream",
     "text": [
      "PA - Paris\n"
     ]
    }
   ],
   "source": [
    "Mode_d_expédition=read.split('\\n')[words[11]-1].replace('\\t', '').split(\"Mode d'expédition: \")[1]\n",
    "print(Mode_d_expédition)"
   ]
  },
  {
   "cell_type": "markdown",
   "id": "21636975",
   "metadata": {},
   "source": [
    "### Mode_de_règlement"
   ]
  },
  {
   "cell_type": "code",
   "execution_count": 37,
   "id": "b685b47a",
   "metadata": {},
   "outputs": [
    {
     "data": {
      "text/plain": [
       "'Mode de règlement: 30 jours nets   / Traite LCR'"
      ]
     },
     "execution_count": 37,
     "metadata": {},
     "output_type": "execute_result"
    }
   ],
   "source": [
    "read.split('\\n')[words[11]]"
   ]
  },
  {
   "cell_type": "code",
   "execution_count": 38,
   "id": "87becee9",
   "metadata": {},
   "outputs": [
    {
     "name": "stdout",
     "output_type": "stream",
     "text": [
      "30 jours nets   / Traite LCR\n"
     ]
    }
   ],
   "source": [
    "Mode_de_règlement=read.split('\\n')[words[11]].replace('\\t', '').split(\"Mode de règlement: \")[1]\n",
    "print(Mode_de_règlement)"
   ]
  },
  {
   "cell_type": "markdown",
   "id": "821c6237",
   "metadata": {},
   "source": [
    "### Date_d_échéance"
   ]
  },
  {
   "cell_type": "code",
   "execution_count": 39,
   "id": "127fdde9",
   "metadata": {},
   "outputs": [
    {
     "name": "stdout",
     "output_type": "stream",
     "text": [
      "13.03.2022\n"
     ]
    }
   ],
   "source": [
    "Date_d_échéance=read.split('\\n')[words[12]].replace('\\t', '').split(\"Date d'échéance: \")[1]\n",
    "print(Date_d_échéance)"
   ]
  },
  {
   "cell_type": "markdown",
   "id": "63a516b8",
   "metadata": {},
   "source": [
    "### num_tva_tech_data"
   ]
  },
  {
   "cell_type": "code",
   "execution_count": 40,
   "id": "1372372e",
   "metadata": {},
   "outputs": [
    {
     "name": "stdout",
     "output_type": "stream",
     "text": [
      "FR07722065638\n"
     ]
    }
   ],
   "source": [
    "num_tva_tech_data=read.split('\\n')[words[13]].replace('\\t', '').split(\"N° TVA Tech Data: \")[1]\n",
    "print(num_tva_tech_data)"
   ]
  },
  {
   "cell_type": "markdown",
   "id": "4d895226",
   "metadata": {},
   "source": [
    "### DataFrame Creation"
   ]
  },
  {
   "cell_type": "code",
   "execution_count": 44,
   "id": "eaa57623",
   "metadata": {},
   "outputs": [
    {
     "data": {
      "text/html": [
       "<div>\n",
       "<style scoped>\n",
       "    .dataframe tbody tr th:only-of-type {\n",
       "        vertical-align: middle;\n",
       "    }\n",
       "\n",
       "    .dataframe tbody tr th {\n",
       "        vertical-align: top;\n",
       "    }\n",
       "\n",
       "    .dataframe thead th {\n",
       "        text-align: right;\n",
       "    }\n",
       "</style>\n",
       "<table border=\"1\" class=\"dataframe\">\n",
       "  <thead>\n",
       "    <tr style=\"text-align: right;\">\n",
       "      <th></th>\n",
       "      <th>Date</th>\n",
       "      <th>Invoice</th>\n",
       "      <th>Amount_Currency</th>\n",
       "      <th>Numéro_doc.</th>\n",
       "      <th>Adresse_de_livraison</th>\n",
       "      <th>Adresse_de_facturation</th>\n",
       "      <th>Votre_compte_chez_nous</th>\n",
       "      <th>Contact_client</th>\n",
       "      <th>num_tva_client</th>\n",
       "      <th>contact_td_sales</th>\n",
       "      <th>...</th>\n",
       "      <th>num_commande</th>\n",
       "      <th>date_commande</th>\n",
       "      <th>Total_HT</th>\n",
       "      <th>Bases_TVA</th>\n",
       "      <th>Base_de_calcul</th>\n",
       "      <th>Montant_TVA</th>\n",
       "      <th>Mode_d_expédition</th>\n",
       "      <th>Mode_de_règlement</th>\n",
       "      <th>Date_d_échéance</th>\n",
       "      <th>num_tva_tech_data</th>\n",
       "    </tr>\n",
       "  </thead>\n",
       "  <tbody>\n",
       "    <tr>\n",
       "      <th>0</th>\n",
       "      <td>11.02.2022</td>\n",
       "      <td>8185864998</td>\n",
       "      <td>403,80 EUR</td>\n",
       "      <td>40045168</td>\n",
       "      <td>1 RUE DE LA DESTINEE 1 RUE DE LA DESTINEE</td>\n",
       "      <td>95800 CERGY 95800 CERGY</td>\n",
       "      <td>757769</td>\n",
       "      <td>STREAM_ONE</td>\n",
       "      <td>FR37880905088</td>\n",
       "      <td>Digitally Led</td>\n",
       "      <td>...</td>\n",
       "      <td>S301571478</td>\n",
       "      <td>09.02.2022</td>\n",
       "      <td>336,50 EUR</td>\n",
       "      <td>336,50 EUR</td>\n",
       "      <td>336,50 EUR</td>\n",
       "      <td>67,30 EUR</td>\n",
       "      <td>PA - Paris</td>\n",
       "      <td>30 jours nets   / Traite LCR</td>\n",
       "      <td>13.03.2022</td>\n",
       "      <td>FR07722065638</td>\n",
       "    </tr>\n",
       "  </tbody>\n",
       "</table>\n",
       "<p>1 rows × 22 columns</p>\n",
       "</div>"
      ],
      "text/plain": [
       "         Date     Invoice Amount_Currency Numéro_doc.  \\\n",
       "0  11.02.2022  8185864998      403,80 EUR    40045168   \n",
       "\n",
       "                        Adresse_de_livraison   Adresse_de_facturation  \\\n",
       "0  1 RUE DE LA DESTINEE 1 RUE DE LA DESTINEE  95800 CERGY 95800 CERGY   \n",
       "\n",
       "  Votre_compte_chez_nous Contact_client num_tva_client contact_td_sales  ...  \\\n",
       "0                 757769     STREAM_ONE  FR37880905088    Digitally Led  ...   \n",
       "\n",
       "  num_commande date_commande    Total_HT   Bases_TVA Base_de_calcul  \\\n",
       "0  S301571478    09.02.2022   336,50 EUR  336,50 EUR     336,50 EUR   \n",
       "\n",
       "  Montant_TVA Mode_d_expédition             Mode_de_règlement Date_d_échéance  \\\n",
       "0   67,30 EUR        PA - Paris  30 jours nets   / Traite LCR      13.03.2022   \n",
       "\n",
       "  num_tva_tech_data  \n",
       "0     FR07722065638  \n",
       "\n",
       "[1 rows x 22 columns]"
      ]
     },
     "execution_count": 44,
     "metadata": {},
     "output_type": "execute_result"
    }
   ],
   "source": [
    "import pandas as pd\n",
    "lst = [[\n",
    "Date,\n",
    "Numéro_de_note,\n",
    "NET_A_PAYER,\n",
    "Numéro_doc,\n",
    "Adresse_de_livraison,\n",
    "Adresse_de_facturation,\n",
    "Votre_compte_chez_nous,\n",
    "Contact_client,\n",
    "num_tva_client,\n",
    "contact_td_sales,\n",
    "num_voucher,\n",
    "contact_td_finance,\n",
    "num_commande,\n",
    "date_commande,\n",
    "Total_HT,\n",
    "Bases_TVA,\n",
    "Base_de_calcul,\n",
    "Montant_TVA,\n",
    "Mode_d_expédition,\n",
    "Mode_de_règlement,\n",
    "Date_d_échéance,\n",
    "num_tva_tech_data]]\n",
    "\n",
    "df = pd.DataFrame(lst, columns =['Date',\n",
    "                                     'Invoice',\n",
    "                                     'Amount_Currency',\n",
    "                                     'Numéro_doc.',\n",
    "                                     'Adresse_de_livraison',\n",
    "                                     'Adresse_de_facturation',\n",
    "                                     'Votre_compte_chez_nous',\n",
    "                                     'Contact_client',\n",
    "                                     'num_tva_client',\n",
    "                                     'contact_td_sales',\n",
    "                                     'num_voucher',\n",
    "                                     'contact_td_finance',\n",
    "                                     'num_commande',\n",
    "                                     'date_commande',\n",
    "                                     'Total_HT',\n",
    "                                     'Bases_TVA',\n",
    "                                     'Base_de_calcul',\n",
    "                                     'Montant_TVA',\n",
    "                                     'Mode_d_expédition',\n",
    "                                     'Mode_de_règlement',\n",
    "                                     'Date_d_échéance',\n",
    "                                     'num_tva_tech_data'], dtype = int)\n",
    "df.head()"
   ]
  },
  {
   "cell_type": "markdown",
   "id": "f2a5f6c1",
   "metadata": {},
   "source": [
    "### DataFrame To CSV File"
   ]
  },
  {
   "cell_type": "code",
   "execution_count": 45,
   "id": "c2ad052f",
   "metadata": {},
   "outputs": [
    {
     "data": {
      "text/html": [
       "<div>\n",
       "<style scoped>\n",
       "    .dataframe tbody tr th:only-of-type {\n",
       "        vertical-align: middle;\n",
       "    }\n",
       "\n",
       "    .dataframe tbody tr th {\n",
       "        vertical-align: top;\n",
       "    }\n",
       "\n",
       "    .dataframe thead th {\n",
       "        text-align: right;\n",
       "    }\n",
       "</style>\n",
       "<table border=\"1\" class=\"dataframe\">\n",
       "  <thead>\n",
       "    <tr style=\"text-align: right;\">\n",
       "      <th></th>\n",
       "      <th>Date</th>\n",
       "      <th>Invoice</th>\n",
       "      <th>Amount_Currency</th>\n",
       "      <th>Numéro_doc.</th>\n",
       "      <th>Adresse_de_livraison</th>\n",
       "      <th>Adresse_de_facturation</th>\n",
       "      <th>Votre_compte_chez_nous</th>\n",
       "      <th>Contact_client</th>\n",
       "      <th>num_tva_client</th>\n",
       "      <th>contact_td_sales</th>\n",
       "      <th>...</th>\n",
       "      <th>num_commande</th>\n",
       "      <th>date_commande</th>\n",
       "      <th>Total_HT</th>\n",
       "      <th>Bases_TVA</th>\n",
       "      <th>Base_de_calcul</th>\n",
       "      <th>Montant_TVA</th>\n",
       "      <th>Mode_d_expédition</th>\n",
       "      <th>Mode_de_règlement</th>\n",
       "      <th>Date_d_échéance</th>\n",
       "      <th>num_tva_tech_data</th>\n",
       "    </tr>\n",
       "  </thead>\n",
       "  <tbody>\n",
       "    <tr>\n",
       "      <th>0</th>\n",
       "      <td>11.02.2022</td>\n",
       "      <td>8185864998</td>\n",
       "      <td>403,80 EUR</td>\n",
       "      <td>40045168</td>\n",
       "      <td>1 RUE DE LA DESTINEE 1 RUE DE LA DESTINEE</td>\n",
       "      <td>95800 CERGY 95800 CERGY</td>\n",
       "      <td>757769</td>\n",
       "      <td>STREAM_ONE</td>\n",
       "      <td>FR37880905088</td>\n",
       "      <td>Digitally Led</td>\n",
       "      <td>...</td>\n",
       "      <td>S301571478</td>\n",
       "      <td>09.02.2022</td>\n",
       "      <td>336,50 EUR</td>\n",
       "      <td>336,50 EUR</td>\n",
       "      <td>336,50 EUR</td>\n",
       "      <td>67,30 EUR</td>\n",
       "      <td>PA - Paris</td>\n",
       "      <td>30 jours nets   / Traite LCR</td>\n",
       "      <td>13.03.2022</td>\n",
       "      <td>FR07722065638</td>\n",
       "    </tr>\n",
       "  </tbody>\n",
       "</table>\n",
       "<p>1 rows × 22 columns</p>\n",
       "</div>"
      ],
      "text/plain": [
       "         Date     Invoice Amount_Currency  Numéro_doc.  \\\n",
       "0  11.02.2022  8185864998      403,80 EUR     40045168   \n",
       "\n",
       "                        Adresse_de_livraison   Adresse_de_facturation  \\\n",
       "0  1 RUE DE LA DESTINEE 1 RUE DE LA DESTINEE  95800 CERGY 95800 CERGY   \n",
       "\n",
       "   Votre_compte_chez_nous Contact_client num_tva_client contact_td_sales  ...  \\\n",
       "0                  757769     STREAM_ONE  FR37880905088    Digitally Led  ...   \n",
       "\n",
       "  num_commande date_commande    Total_HT   Bases_TVA Base_de_calcul  \\\n",
       "0  S301571478    09.02.2022   336,50 EUR  336,50 EUR     336,50 EUR   \n",
       "\n",
       "  Montant_TVA Mode_d_expédition             Mode_de_règlement Date_d_échéance  \\\n",
       "0   67,30 EUR        PA - Paris  30 jours nets   / Traite LCR      13.03.2022   \n",
       "\n",
       "  num_tva_tech_data  \n",
       "0     FR07722065638  \n",
       "\n",
       "[1 rows x 22 columns]"
      ]
     },
     "execution_count": 45,
     "metadata": {},
     "output_type": "execute_result"
    }
   ],
   "source": [
    "df.to_csv(\"data.csv\",index=False)\n",
    "data=pd.read_csv(\"data.csv\")\n",
    "data.head()"
   ]
  },
  {
   "cell_type": "markdown",
   "id": "eb1f9c70",
   "metadata": {},
   "source": [
    "### DataFrame To JSON File"
   ]
  },
  {
   "cell_type": "code",
   "execution_count": 46,
   "id": "cb58a123",
   "metadata": {},
   "outputs": [
    {
     "data": {
      "text/html": [
       "<div>\n",
       "<style scoped>\n",
       "    .dataframe tbody tr th:only-of-type {\n",
       "        vertical-align: middle;\n",
       "    }\n",
       "\n",
       "    .dataframe tbody tr th {\n",
       "        vertical-align: top;\n",
       "    }\n",
       "\n",
       "    .dataframe thead th {\n",
       "        text-align: right;\n",
       "    }\n",
       "</style>\n",
       "<table border=\"1\" class=\"dataframe\">\n",
       "  <thead>\n",
       "    <tr style=\"text-align: right;\">\n",
       "      <th></th>\n",
       "      <th>Date</th>\n",
       "      <th>Invoice</th>\n",
       "      <th>Amount_Currency</th>\n",
       "      <th>Numéro_doc.</th>\n",
       "      <th>Adresse_de_livraison</th>\n",
       "      <th>Adresse_de_facturation</th>\n",
       "      <th>Votre_compte_chez_nous</th>\n",
       "      <th>Contact_client</th>\n",
       "      <th>num_tva_client</th>\n",
       "      <th>contact_td_sales</th>\n",
       "      <th>...</th>\n",
       "      <th>num_commande</th>\n",
       "      <th>date_commande</th>\n",
       "      <th>Total_HT</th>\n",
       "      <th>Bases_TVA</th>\n",
       "      <th>Base_de_calcul</th>\n",
       "      <th>Montant_TVA</th>\n",
       "      <th>Mode_d_expédition</th>\n",
       "      <th>Mode_de_règlement</th>\n",
       "      <th>Date_d_échéance</th>\n",
       "      <th>num_tva_tech_data</th>\n",
       "    </tr>\n",
       "  </thead>\n",
       "  <tbody>\n",
       "    <tr>\n",
       "      <th>0</th>\n",
       "      <td>2022-11-02</td>\n",
       "      <td>8185864998</td>\n",
       "      <td>403,80 EUR</td>\n",
       "      <td>40045168</td>\n",
       "      <td>1 RUE DE LA DESTINEE 1 RUE DE LA DESTINEE</td>\n",
       "      <td>95800 CERGY 95800 CERGY</td>\n",
       "      <td>757769</td>\n",
       "      <td>STREAM_ONE</td>\n",
       "      <td>FR37880905088</td>\n",
       "      <td>Digitally Led</td>\n",
       "      <td>...</td>\n",
       "      <td>S301571478</td>\n",
       "      <td>09.02.2022</td>\n",
       "      <td>336,50 EUR</td>\n",
       "      <td>336,50 EUR</td>\n",
       "      <td>336,50 EUR</td>\n",
       "      <td>67,30 EUR</td>\n",
       "      <td>PA - Paris</td>\n",
       "      <td>30 jours nets   / Traite LCR</td>\n",
       "      <td>13.03.2022</td>\n",
       "      <td>FR07722065638</td>\n",
       "    </tr>\n",
       "  </tbody>\n",
       "</table>\n",
       "<p>1 rows × 22 columns</p>\n",
       "</div>"
      ],
      "text/plain": [
       "        Date     Invoice Amount_Currency  Numéro_doc.  \\\n",
       "0 2022-11-02  8185864998      403,80 EUR     40045168   \n",
       "\n",
       "                        Adresse_de_livraison   Adresse_de_facturation  \\\n",
       "0  1 RUE DE LA DESTINEE 1 RUE DE LA DESTINEE  95800 CERGY 95800 CERGY   \n",
       "\n",
       "   Votre_compte_chez_nous Contact_client num_tva_client contact_td_sales  ...  \\\n",
       "0                  757769     STREAM_ONE  FR37880905088    Digitally Led  ...   \n",
       "\n",
       "  num_commande date_commande    Total_HT   Bases_TVA Base_de_calcul  \\\n",
       "0  S301571478    09.02.2022   336,50 EUR  336,50 EUR     336,50 EUR   \n",
       "\n",
       "  Montant_TVA Mode_d_expédition             Mode_de_règlement Date_d_échéance  \\\n",
       "0   67,30 EUR        PA - Paris  30 jours nets   / Traite LCR      13.03.2022   \n",
       "\n",
       "  num_tva_tech_data  \n",
       "0     FR07722065638  \n",
       "\n",
       "[1 rows x 22 columns]"
      ]
     },
     "execution_count": 46,
     "metadata": {},
     "output_type": "execute_result"
    }
   ],
   "source": [
    "import json\n",
    "df.to_json(\"data.json\")\n",
    "data_json=pd.read_json(\"data.json\")\n",
    "data_json.head()"
   ]
  },
  {
   "cell_type": "code",
   "execution_count": null,
   "id": "944901cf",
   "metadata": {},
   "outputs": [],
   "source": []
  }
 ],
 "metadata": {
  "kernelspec": {
   "display_name": "sami",
   "language": "python",
   "name": "sami"
  },
  "language_info": {
   "codemirror_mode": {
    "name": "ipython",
    "version": 3
   },
   "file_extension": ".py",
   "mimetype": "text/x-python",
   "name": "python",
   "nbconvert_exporter": "python",
   "pygments_lexer": "ipython3",
   "version": "3.8.8"
  }
 },
 "nbformat": 4,
 "nbformat_minor": 5
}
